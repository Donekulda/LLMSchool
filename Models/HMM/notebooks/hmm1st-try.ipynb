{
 "cells": [
  {
   "cell_type": "code",
   "execution_count": 1,
   "metadata": {
    "_cell_guid": "b1076dfc-b9ad-4769-8c92-a6c4dae69d19",
    "_uuid": "8f2839f25d086af736a60e9eeb907d3b93b6e0e5",
    "execution": {
     "iopub.execute_input": "2025-01-01T13:29:56.744111Z",
     "iopub.status.busy": "2025-01-01T13:29:56.743870Z",
     "iopub.status.idle": "2025-01-01T13:30:04.524090Z",
     "shell.execute_reply": "2025-01-01T13:30:04.523078Z",
     "shell.execute_reply.started": "2025-01-01T13:29:56.744081Z"
    },
    "trusted": true
   },
   "outputs": [
    {
     "name": "stdout",
     "output_type": "stream",
     "text": [
      "Looking in links: file:///kaggle/input/hmmlearn-local/\n",
      "Processing /kaggle/input/hmmlearn-local/hmmlearn-0.3.3-cp310-cp310-manylinux_2_17_x86_64.manylinux2014_x86_64.whl\n",
      "Requirement already satisfied: numpy>=1.10 in /usr/local/lib/python3.10/dist-packages (from hmmlearn) (1.26.4)\n",
      "Requirement already satisfied: scikit-learn!=0.22.0,>=0.16 in /usr/local/lib/python3.10/dist-packages (from hmmlearn) (1.2.2)\n",
      "Requirement already satisfied: scipy>=0.19 in /usr/local/lib/python3.10/dist-packages (from hmmlearn) (1.13.1)\n",
      "Requirement already satisfied: joblib>=1.1.1 in /usr/local/lib/python3.10/dist-packages (from scikit-learn!=0.22.0,>=0.16->hmmlearn) (1.4.2)\n",
      "Requirement already satisfied: threadpoolctl>=2.0.0 in /usr/local/lib/python3.10/dist-packages (from scikit-learn!=0.22.0,>=0.16->hmmlearn) (3.5.0)\n",
      "Installing collected packages: hmmlearn\n",
      "Successfully installed hmmlearn-0.3.3\n"
     ]
    }
   ],
   "source": [
    "!pip install hmmlearn\n",
    "import numpy as np\n",
    "import pandas as pd\n",
    "from hmmlearn.hmm import GaussianHMM\n",
    "from sklearn.preprocessing import StandardScaler\n",
    "from IPython.display import display, Markdown\n",
    "import warnings\n",
    "warnings.filterwarnings('ignore')"
   ]
  },
  {
   "cell_type": "code",
   "execution_count": null,
   "metadata": {},
   "outputs": [],
   "source": []
  },
  {
   "cell_type": "code",
   "execution_count": 2,
   "metadata": {
    "execution": {
     "iopub.execute_input": "2025-01-01T13:30:04.526622Z",
     "iopub.status.busy": "2025-01-01T13:30:04.526017Z",
     "iopub.status.idle": "2025-01-01T13:30:04.540275Z",
     "shell.execute_reply": "2025-01-01T13:30:04.539187Z",
     "shell.execute_reply.started": "2025-01-01T13:30:04.526589Z"
    },
    "trusted": true
   },
   "outputs": [],
   "source": [
    "class HMMTrader:\n",
    "    def __init__(self, n_states=3, n_lookback=5):\n",
    "        display(Markdown(\"### Init HMMTrader...\"))\n",
    "        \"\"\"\n",
    "        Initialize HMM Trading model\n",
    "        \n",
    "        Parameters:\n",
    "        n_states (int): Number of hidden states in HMM\n",
    "        n_lookback (int): Number of days to look back for features\n",
    "        \"\"\"\n",
    "        self.n_states = n_states\n",
    "        self.n_lookback = n_lookback\n",
    "        self.hmm = GaussianHMM(\n",
    "            n_components=n_states,\n",
    "            covariance_type=\"full\",\n",
    "            n_iter=500,\n",
    "            random_state=672\n",
    "        )\n",
    "        self.scaler = StandardScaler()\n",
    "        \n",
    "    def _create_features(self, data):\n",
    "        display(Markdown(\"### Create features\"))\n",
    "        \"\"\"\n",
    "        Create features from price data\n",
    "        \n",
    "        Parameters:\n",
    "        data (pd.DataFrame): DataFrame with 'Close' prices\n",
    "        \n",
    "        Returns:\n",
    "        np.array: Feature matrix\n",
    "        \"\"\"\n",
    "        # Calculate returns\n",
    "        returns = np.log(data['Close'] / data['Close'].shift(1)).dropna()\n",
    "        \n",
    "        # Calculate volatility\n",
    "        volatility = returns.rolling(window=self.n_lookback).std().dropna()\n",
    "        \n",
    "        # Calculate moving averages\n",
    "        ma5 = data['Close'].rolling(window=5).mean()\n",
    "        ma20 = data['Close'].rolling(window=20).mean()\n",
    "        \n",
    "        # Calculate moving average crossover\n",
    "        ma_crossover = (ma5 - ma20) / ma20\n",
    "        \n",
    "        # Create features matrix\n",
    "        features = pd.concat([\n",
    "            returns,\n",
    "            volatility,\n",
    "            ma_crossover.shift(1)\n",
    "        ], axis=1).dropna()\n",
    "        \n",
    "        return self.scaler.fit_transform(features)\n",
    "    \n",
    "    def train(self, data):\n",
    "        \"\"\"\n",
    "        Train the HMM model\n",
    "        \n",
    "        Parameters:\n",
    "        data (pd.DataFrame): DataFrame with at least 'Close' price column\n",
    "        \"\"\"\n",
    "        features = self._create_features(data)\n",
    "        self.hmm.fit(features)\n",
    "        \n",
    "    def predict_states(self, data):\n",
    "        \"\"\"\n",
    "        Predict hidden states for given data\n",
    "        \n",
    "        Parameters:\n",
    "        data (pd.DataFrame): DataFrame with at least 'Close' price column\n",
    "        \n",
    "        Returns:\n",
    "        np.array: Predicted states\n",
    "        \"\"\"\n",
    "        features = self._create_features(data)\n",
    "        return self.hmm.predict(features)\n",
    "    \n",
    "    def get_trading_signals(self, data):\n",
    "        \"\"\"\n",
    "        Generate trading signals based on predicted states\n",
    "        \n",
    "        Parameters:\n",
    "        data (pd.DataFrame): DataFrame with at least 'Close' price column\n",
    "        \n",
    "        Returns:\n",
    "        pd.DataFrame: DataFrame with predictions and signals\n",
    "        \"\"\"\n",
    "        features = self._create_features(data)\n",
    "        states = self.hmm.predict(features)\n",
    "        \n",
    "        # Calculate state means for returns\n",
    "        state_returns = {}\n",
    "        returns = np.log(data['Close'] / data['Close'].shift(1)).dropna()\n",
    "        \n",
    "        for state in range(self.n_states):\n",
    "            state_returns[state] = returns[states == state].mean()\n",
    "        \n",
    "        # Generate signals based on state expected returns\n",
    "        signals = pd.Series(index=returns.index, data=0)\n",
    "        \n",
    "        for state in range(self.n_states):\n",
    "            if state_returns[state] > 0:\n",
    "                signals[states == state] = 1\n",
    "            elif state_returns[state] < 0:\n",
    "                signals[states == state] = -1\n",
    "        \n",
    "        return pd.DataFrame({\n",
    "            'Returns': returns,\n",
    "            'State': states,\n",
    "            'Signal': signals\n",
    "        })\n",
    "    \n",
    "    def backtest(self, data, initial_capital=100000):\n",
    "        \"\"\"\n",
    "        Backtest the trading strategy\n",
    "        \n",
    "        Parameters:\n",
    "        data (pd.DataFrame): DataFrame with at least 'Close' price column\n",
    "        initial_capital (float): Initial capital for backtesting\n",
    "        \n",
    "        Returns:\n",
    "        pd.DataFrame: DataFrame with backtest results\n",
    "        \"\"\"\n",
    "        signals = self.get_trading_signals(data)\n",
    "        \n",
    "        # Calculate strategy returns\n",
    "        strategy_returns = signals['Signal'].shift(1) * signals['Returns']\n",
    "        \n",
    "        # Calculate cumulative returns\n",
    "        cumulative_returns = (1 + strategy_returns).cumprod()\n",
    "        \n",
    "        # Calculate portfolio value\n",
    "        portfolio_value = initial_capital * cumulative_returns\n",
    "        \n",
    "        # Calculate metrics\n",
    "        total_return = (portfolio_value.iloc[-1] - initial_capital) / initial_capital\n",
    "        sharpe_ratio = np.sqrt(252) * strategy_returns.mean() / strategy_returns.std()\n",
    "        max_drawdown = (portfolio_value / portfolio_value.cummax() - 1).min()\n",
    "        \n",
    "        results = pd.DataFrame({\n",
    "            'Portfolio_Value': portfolio_value,\n",
    "            'Strategy_Returns': strategy_returns,\n",
    "            'Cumulative_Returns': cumulative_returns\n",
    "        })\n",
    "        \n",
    "        print(f\"Backtest Results:\")\n",
    "        print(f\"Total Return: {total_return:.2%}\")\n",
    "        print(f\"Sharpe Ratio: {sharpe_ratio:.2f}\")\n",
    "        print(f\"Max Drawdown: {max_drawdown:.2%}\")\n",
    "        \n",
    "        return results"
   ]
  },
  {
   "cell_type": "code",
   "execution_count": 3,
   "metadata": {
    "execution": {
     "iopub.execute_input": "2025-01-01T13:30:04.542074Z",
     "iopub.status.busy": "2025-01-01T13:30:04.541802Z",
     "iopub.status.idle": "2025-01-01T13:30:04.566705Z",
     "shell.execute_reply": "2025-01-01T13:30:04.565662Z",
     "shell.execute_reply.started": "2025-01-01T13:30:04.542049Z"
    },
    "trusted": true
   },
   "outputs": [
    {
     "data": {
      "text/markdown": [
       "### Load def of Load&PrepareData"
      ],
      "text/plain": [
       "<IPython.core.display.Markdown object>"
      ]
     },
     "metadata": {},
     "output_type": "display_data"
    }
   ],
   "source": [
    "# Example usage\n",
    "display(Markdown(\"### Load def of Load&PrepareData\"))\n",
    "def load_and_prepare_data(file_path):\n",
    "    \"\"\"\n",
    "    Load and prepare data for HMM trading\n",
    "    \n",
    "    Parameters:\n",
    "    file_path (str): Path to CSV file with OHLCV data\n",
    "    \n",
    "    Returns:\n",
    "    pd.DataFrame: Prepared DataFrame\n",
    "    \"\"\"\n",
    "    df = pd.read_csv(file_path)\n",
    "    df['Timestamp'] = pd.to_datetime(df['Timestamp'], unit='s')  # for seconds\n",
    "    df.set_index('Timestamp', inplace=True)\n",
    "    return df"
   ]
  },
  {
   "cell_type": "code",
   "execution_count": 4,
   "metadata": {
    "execution": {
     "iopub.execute_input": "2025-01-01T13:30:04.568237Z",
     "iopub.status.busy": "2025-01-01T13:30:04.567856Z",
     "iopub.status.idle": "2025-01-01T13:30:12.265612Z",
     "shell.execute_reply": "2025-01-01T13:30:12.264148Z",
     "shell.execute_reply.started": "2025-01-01T13:30:04.568198Z"
    },
    "trusted": true
   },
   "outputs": [
    {
     "data": {
      "text/markdown": [
       "### Starting the main script"
      ],
      "text/plain": [
       "<IPython.core.display.Markdown object>"
      ]
     },
     "metadata": {},
     "output_type": "display_data"
    },
    {
     "ename": "KeyError",
     "evalue": "'Date'",
     "output_type": "error",
     "traceback": [
      "\u001b[0;31m---------------------------------------------------------------------------\u001b[0m",
      "\u001b[0;31mKeyError\u001b[0m                                  Traceback (most recent call last)",
      "\u001b[0;32m/usr/local/lib/python3.10/dist-packages/pandas/core/indexes/base.py\u001b[0m in \u001b[0;36mget_loc\u001b[0;34m(self, key)\u001b[0m\n\u001b[1;32m   3790\u001b[0m         \u001b[0;32mtry\u001b[0m\u001b[0;34m:\u001b[0m\u001b[0;34m\u001b[0m\u001b[0;34m\u001b[0m\u001b[0m\n\u001b[0;32m-> 3791\u001b[0;31m             \u001b[0;32mreturn\u001b[0m \u001b[0mself\u001b[0m\u001b[0;34m.\u001b[0m\u001b[0m_engine\u001b[0m\u001b[0;34m.\u001b[0m\u001b[0mget_loc\u001b[0m\u001b[0;34m(\u001b[0m\u001b[0mcasted_key\u001b[0m\u001b[0;34m)\u001b[0m\u001b[0;34m\u001b[0m\u001b[0;34m\u001b[0m\u001b[0m\n\u001b[0m\u001b[1;32m   3792\u001b[0m         \u001b[0;32mexcept\u001b[0m \u001b[0mKeyError\u001b[0m \u001b[0;32mas\u001b[0m \u001b[0merr\u001b[0m\u001b[0;34m:\u001b[0m\u001b[0;34m\u001b[0m\u001b[0;34m\u001b[0m\u001b[0m\n",
      "\u001b[0;32mindex.pyx\u001b[0m in \u001b[0;36mpandas._libs.index.IndexEngine.get_loc\u001b[0;34m()\u001b[0m\n",
      "\u001b[0;32mindex.pyx\u001b[0m in \u001b[0;36mpandas._libs.index.IndexEngine.get_loc\u001b[0;34m()\u001b[0m\n",
      "\u001b[0;32mpandas/_libs/hashtable_class_helper.pxi\u001b[0m in \u001b[0;36mpandas._libs.hashtable.PyObjectHashTable.get_item\u001b[0;34m()\u001b[0m\n",
      "\u001b[0;32mpandas/_libs/hashtable_class_helper.pxi\u001b[0m in \u001b[0;36mpandas._libs.hashtable.PyObjectHashTable.get_item\u001b[0;34m()\u001b[0m\n",
      "\u001b[0;31mKeyError\u001b[0m: 'Date'",
      "\nThe above exception was the direct cause of the following exception:\n",
      "\u001b[0;31mKeyError\u001b[0m                                  Traceback (most recent call last)",
      "\u001b[0;32m<ipython-input-4-ad23861ef65b>\u001b[0m in \u001b[0;36m<cell line: 4>\u001b[0;34m()\u001b[0m\n\u001b[1;32m      2\u001b[0m \u001b[0;31m# Load your data\u001b[0m\u001b[0;34m\u001b[0m\u001b[0;34m\u001b[0m\u001b[0m\n\u001b[1;32m      3\u001b[0m \u001b[0;31m# Example: df = load_and_prepare_data('AAPL_daily.csv')\u001b[0m\u001b[0;34m\u001b[0m\u001b[0;34m\u001b[0m\u001b[0m\n\u001b[0;32m----> 4\u001b[0;31m \u001b[0mdf\u001b[0m \u001b[0;34m=\u001b[0m \u001b[0mload_and_prepare_data\u001b[0m\u001b[0;34m(\u001b[0m\u001b[0;34m'/kaggle/input/bitcoin-historical-data/btcusd_1-min_data.csv'\u001b[0m\u001b[0;34m)\u001b[0m\u001b[0;34m\u001b[0m\u001b[0;34m\u001b[0m\u001b[0m\n\u001b[0m\u001b[1;32m      5\u001b[0m \u001b[0;34m\u001b[0m\u001b[0m\n\u001b[1;32m      6\u001b[0m \u001b[0;31m# Initialize and train model\u001b[0m\u001b[0;34m\u001b[0m\u001b[0;34m\u001b[0m\u001b[0m\n",
      "\u001b[0;32m<ipython-input-3-87d033f12de7>\u001b[0m in \u001b[0;36mload_and_prepare_data\u001b[0;34m(file_path)\u001b[0m\n\u001b[1;32m     12\u001b[0m     \"\"\"\n\u001b[1;32m     13\u001b[0m     \u001b[0mdf\u001b[0m \u001b[0;34m=\u001b[0m \u001b[0mpd\u001b[0m\u001b[0;34m.\u001b[0m\u001b[0mread_csv\u001b[0m\u001b[0;34m(\u001b[0m\u001b[0mfile_path\u001b[0m\u001b[0;34m)\u001b[0m\u001b[0;34m\u001b[0m\u001b[0;34m\u001b[0m\u001b[0m\n\u001b[0;32m---> 14\u001b[0;31m     \u001b[0mdf\u001b[0m\u001b[0;34m[\u001b[0m\u001b[0;34m'Date'\u001b[0m\u001b[0;34m]\u001b[0m \u001b[0;34m=\u001b[0m \u001b[0mpd\u001b[0m\u001b[0;34m.\u001b[0m\u001b[0mto_datetime\u001b[0m\u001b[0;34m(\u001b[0m\u001b[0mdf\u001b[0m\u001b[0;34m[\u001b[0m\u001b[0;34m'Date'\u001b[0m\u001b[0;34m]\u001b[0m\u001b[0;34m)\u001b[0m\u001b[0;34m\u001b[0m\u001b[0;34m\u001b[0m\u001b[0m\n\u001b[0m\u001b[1;32m     15\u001b[0m     \u001b[0mdf\u001b[0m\u001b[0;34m.\u001b[0m\u001b[0mset_index\u001b[0m\u001b[0;34m(\u001b[0m\u001b[0;34m'Date'\u001b[0m\u001b[0;34m,\u001b[0m \u001b[0minplace\u001b[0m\u001b[0;34m=\u001b[0m\u001b[0;32mTrue\u001b[0m\u001b[0;34m)\u001b[0m\u001b[0;34m\u001b[0m\u001b[0;34m\u001b[0m\u001b[0m\n\u001b[1;32m     16\u001b[0m     \u001b[0;32mreturn\u001b[0m \u001b[0mdf\u001b[0m\u001b[0;34m\u001b[0m\u001b[0;34m\u001b[0m\u001b[0m\n",
      "\u001b[0;32m/usr/local/lib/python3.10/dist-packages/pandas/core/frame.py\u001b[0m in \u001b[0;36m__getitem__\u001b[0;34m(self, key)\u001b[0m\n\u001b[1;32m   3891\u001b[0m             \u001b[0;32mif\u001b[0m \u001b[0mself\u001b[0m\u001b[0;34m.\u001b[0m\u001b[0mcolumns\u001b[0m\u001b[0;34m.\u001b[0m\u001b[0mnlevels\u001b[0m \u001b[0;34m>\u001b[0m \u001b[0;36m1\u001b[0m\u001b[0;34m:\u001b[0m\u001b[0;34m\u001b[0m\u001b[0;34m\u001b[0m\u001b[0m\n\u001b[1;32m   3892\u001b[0m                 \u001b[0;32mreturn\u001b[0m \u001b[0mself\u001b[0m\u001b[0;34m.\u001b[0m\u001b[0m_getitem_multilevel\u001b[0m\u001b[0;34m(\u001b[0m\u001b[0mkey\u001b[0m\u001b[0;34m)\u001b[0m\u001b[0;34m\u001b[0m\u001b[0;34m\u001b[0m\u001b[0m\n\u001b[0;32m-> 3893\u001b[0;31m             \u001b[0mindexer\u001b[0m \u001b[0;34m=\u001b[0m \u001b[0mself\u001b[0m\u001b[0;34m.\u001b[0m\u001b[0mcolumns\u001b[0m\u001b[0;34m.\u001b[0m\u001b[0mget_loc\u001b[0m\u001b[0;34m(\u001b[0m\u001b[0mkey\u001b[0m\u001b[0;34m)\u001b[0m\u001b[0;34m\u001b[0m\u001b[0;34m\u001b[0m\u001b[0m\n\u001b[0m\u001b[1;32m   3894\u001b[0m             \u001b[0;32mif\u001b[0m \u001b[0mis_integer\u001b[0m\u001b[0;34m(\u001b[0m\u001b[0mindexer\u001b[0m\u001b[0;34m)\u001b[0m\u001b[0;34m:\u001b[0m\u001b[0;34m\u001b[0m\u001b[0;34m\u001b[0m\u001b[0m\n\u001b[1;32m   3895\u001b[0m                 \u001b[0mindexer\u001b[0m \u001b[0;34m=\u001b[0m \u001b[0;34m[\u001b[0m\u001b[0mindexer\u001b[0m\u001b[0;34m]\u001b[0m\u001b[0;34m\u001b[0m\u001b[0;34m\u001b[0m\u001b[0m\n",
      "\u001b[0;32m/usr/local/lib/python3.10/dist-packages/pandas/core/indexes/base.py\u001b[0m in \u001b[0;36mget_loc\u001b[0;34m(self, key)\u001b[0m\n\u001b[1;32m   3796\u001b[0m             ):\n\u001b[1;32m   3797\u001b[0m                 \u001b[0;32mraise\u001b[0m \u001b[0mInvalidIndexError\u001b[0m\u001b[0;34m(\u001b[0m\u001b[0mkey\u001b[0m\u001b[0;34m)\u001b[0m\u001b[0;34m\u001b[0m\u001b[0;34m\u001b[0m\u001b[0m\n\u001b[0;32m-> 3798\u001b[0;31m             \u001b[0;32mraise\u001b[0m \u001b[0mKeyError\u001b[0m\u001b[0;34m(\u001b[0m\u001b[0mkey\u001b[0m\u001b[0;34m)\u001b[0m \u001b[0;32mfrom\u001b[0m \u001b[0merr\u001b[0m\u001b[0;34m\u001b[0m\u001b[0;34m\u001b[0m\u001b[0m\n\u001b[0m\u001b[1;32m   3799\u001b[0m         \u001b[0;32mexcept\u001b[0m \u001b[0mTypeError\u001b[0m\u001b[0;34m:\u001b[0m\u001b[0;34m\u001b[0m\u001b[0;34m\u001b[0m\u001b[0m\n\u001b[1;32m   3800\u001b[0m             \u001b[0;31m# If we have a listlike key, _check_indexing_error will raise\u001b[0m\u001b[0;34m\u001b[0m\u001b[0;34m\u001b[0m\u001b[0m\n",
      "\u001b[0;31mKeyError\u001b[0m: 'Date'"
     ]
    }
   ],
   "source": [
    "display(Markdown(\"### Starting the main script\"))\n",
    "# Load your data\n",
    "# Example: df = load_and_prepare_data('AAPL_daily.csv')\n",
    "df = load_and_prepare_data('/kaggle/input/bitcoin-historical-data/btcusd_1-min_data.csv')\n",
    "\n",
    "# Initialize and train model\n",
    "hmm_trader = HMMTrader(n_states=4, n_lookback=5)\n",
    "\n",
    "# Split data into train and test\n",
    "train_size = int(len(df) * 0.8)\n",
    "train_data = df[:train_size]\n",
    "test_data = df[train_size:]\n",
    "\n",
    "# Train model\n",
    "hmm_trader.train(train_data)\n",
    "\n",
    "# Backtest on test data\n",
    "results = hmm_trader.backtest(test_data)\n",
    "\n",
    "# Optional: Plot results\n",
    "import matplotlib.pyplot as plt\n",
    "\n",
    "plt.figure(figsize=(12, 6))\n",
    "plt.plot(results['Portfolio_Value'])\n",
    "plt.title('Portfolio Value Over Time')\n",
    "plt.xlabel('Date')\n",
    "plt.ylabel('Portfolio Value')\n",
    "plt.grid(True)\n",
    "plt.show()"
   ]
  }
 ],
 "metadata": {
  "kaggle": {
   "accelerator": "none",
   "dataSources": [
    {
     "datasetId": 1346,
     "sourceId": 10344880,
     "sourceType": "datasetVersion"
    }
   ],
   "dockerImageVersionId": 30822,
   "isGpuEnabled": false,
   "isInternetEnabled": false,
   "language": "python",
   "sourceType": "notebook"
  },
  "kernelspec": {
   "display_name": "Python 3",
   "language": "python",
   "name": "python3"
  },
  "language_info": {
   "codemirror_mode": {
    "name": "ipython",
    "version": 3
   },
   "file_extension": ".py",
   "mimetype": "text/x-python",
   "name": "python",
   "nbconvert_exporter": "python",
   "pygments_lexer": "ipython3",
   "version": "3.10.12"
  }
 },
 "nbformat": 4,
 "nbformat_minor": 4
}
