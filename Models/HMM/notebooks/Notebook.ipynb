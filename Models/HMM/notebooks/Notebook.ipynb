{
 "cells": [
  {
   "cell_type": "code",
   "execution_count": 1,
   "metadata": {},
   "outputs": [
    {
     "ename": "ModuleNotFoundError",
     "evalue": "No module named 'numpy'",
     "output_type": "error",
     "traceback": [
      "\u001b[1;31m---------------------------------------------------------------------------\u001b[0m",
      "\u001b[1;31mModuleNotFoundError\u001b[0m                       Traceback (most recent call last)",
      "Cell \u001b[1;32mIn[1], line 2\u001b[0m\n\u001b[0;32m      1\u001b[0m \u001b[38;5;66;03m# Import necessary libraries\u001b[39;00m\n\u001b[1;32m----> 2\u001b[0m \u001b[38;5;28;01mimport\u001b[39;00m \u001b[38;5;21;01mnumpy\u001b[39;00m \u001b[38;5;28;01mas\u001b[39;00m \u001b[38;5;21;01mnp\u001b[39;00m\n\u001b[0;32m      3\u001b[0m \u001b[38;5;28;01mimport\u001b[39;00m \u001b[38;5;21;01mpandas\u001b[39;00m \u001b[38;5;28;01mas\u001b[39;00m \u001b[38;5;21;01mpd\u001b[39;00m\n\u001b[0;32m      4\u001b[0m \u001b[38;5;28;01mimport\u001b[39;00m \u001b[38;5;21;01mmatplotlib\u001b[39;00m\u001b[38;5;21;01m.\u001b[39;00m\u001b[38;5;21;01mpyplot\u001b[39;00m \u001b[38;5;28;01mas\u001b[39;00m \u001b[38;5;21;01mplt\u001b[39;00m\n",
      "\u001b[1;31mModuleNotFoundError\u001b[0m: No module named 'numpy'"
     ]
    }
   ],
   "source": [
    "# Import necessary libraries\n",
    "import numpy as np\n",
    "import pandas as pd\n",
    "import matplotlib.pyplot as plt\n",
    "import seaborn as sns\n",
    "\n",
    "# Load the dataset\n",
    "# Example: df = pd.read_csv('/kaggle/input/dataset.csv')\n",
    "\n",
    "# Display the first few rows of the dataset\n",
    "# Example: df.head()\n",
    "\n",
    "# Basic data information\n",
    "# Example: df.info()\n",
    "\n",
    "# Statistical summary of the dataset\n",
    "# Example: df.describe()\n",
    "\n",
    "# Check for missing values\n",
    "# Example: df.isnull().sum()\n",
    "\n",
    "# Data visualization\n",
    "# Example: sns.pairplot(df)\n",
    "# Example: plt.show()\n",
    "\n",
    "# Data preprocessing\n",
    "# Example: df.fillna(method='ffill', inplace=True)\n",
    "\n",
    "# Feature engineering\n",
    "# Example: df['new_feature'] = df['feature1'] * df['feature2']\n",
    "\n",
    "# Model building\n",
    "# Example: from sklearn.model_selection import train_test_split\n",
    "# Example: from sklearn.ensemble import RandomForestClassifier\n",
    "\n",
    "# Example: X = df.drop('target', axis=1)\n",
    "# Example: y = df['target']\n",
    "# Example: X_train, X_test, y_train, y_test = train_test_split(X, y, test_size=0.2, random_state=42)\n",
    "\n",
    "# Example: model = RandomForestClassifier()\n",
    "# Example: model.fit(X_train, y_train)\n",
    "\n",
    "# Model evaluation\n",
    "# Example: from sklearn.metrics import accuracy_score\n",
    "# Example: y_pred = model.predict(X_test)\n",
    "# Example: accuracy = accuracy_score(y_test, y_pred)\n",
    "# Example: print(f'Accuracy: {accuracy:.2f}')"
   ]
  },
  {
   "cell_type": "code",
   "execution_count": null,
   "metadata": {},
   "outputs": [],
   "source": []
  }
 ],
 "metadata": {
  "kernelspec": {
   "display_name": ".venv",
   "language": "python",
   "name": "python3"
  },
  "language_info": {
   "codemirror_mode": {
    "name": "ipython",
    "version": 3
   },
   "file_extension": ".py",
   "mimetype": "text/x-python",
   "name": "python",
   "nbconvert_exporter": "python",
   "pygments_lexer": "ipython3",
   "version": "3.13.1"
  }
 },
 "nbformat": 4,
 "nbformat_minor": 2
}
